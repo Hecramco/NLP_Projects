{
 "cells": [
  {
   "cell_type": "code",
   "execution_count": 3,
   "id": "7de02e75",
   "metadata": {},
   "outputs": [
    {
     "name": "stdout",
     "output_type": "stream",
     "text": [
      "[==================================================] 100.0% 1662.8/1662.8MB downloaded\n"
     ]
    }
   ],
   "source": [
    "import gensim.downloader as api\n",
    "wv = api.load('word2vec-google-news-300')"
   ]
  },
  {
   "cell_type": "code",
   "execution_count": 8,
   "id": "d8d70b1a",
   "metadata": {},
   "outputs": [
    {
     "data": {
      "text/plain": [
       "0.18861443"
      ]
     },
     "execution_count": 8,
     "metadata": {},
     "output_type": "execute_result"
    }
   ],
   "source": [
    "wv.similarity('Master', 'Anakin')"
   ]
  },
  {
   "cell_type": "code",
   "execution_count": 11,
   "id": "06f67f26",
   "metadata": {},
   "outputs": [
    {
     "data": {
      "text/plain": [
       "[('Yoda', 0.553029477596283),\n",
       " ('Darth', 0.5522364377975464),\n",
       " ('Obi_Wan_Kenobi', 0.5342901945114136),\n",
       " ('Sith_Lord', 0.5264482498168945),\n",
       " ('Jedi_Master', 0.5176642537117004),\n",
       " ('Han_Solo', 0.517648458480835),\n",
       " ('Luke_Skywalker', 0.5108938813209534),\n",
       " ('Hans_Solo', 0.5073797702789307),\n",
       " ('Darth_Vadar', 0.5068923830986023),\n",
       " ('Obi_Wan', 0.5052576065063477)]"
      ]
     },
     "execution_count": 11,
     "metadata": {},
     "output_type": "execute_result"
    }
   ],
   "source": [
    "wv.most_similar(positive=['Darth_Vader','Jedi'], negative=['Sith'])"
   ]
  },
  {
   "cell_type": "code",
   "execution_count": null,
   "id": "1a94fd41",
   "metadata": {},
   "outputs": [],
   "source": []
  }
 ],
 "metadata": {
  "kernelspec": {
   "display_name": "nlp_env",
   "language": "python",
   "name": "python3"
  },
  "language_info": {
   "codemirror_mode": {
    "name": "ipython",
    "version": 3
   },
   "file_extension": ".py",
   "mimetype": "text/x-python",
   "name": "python",
   "nbconvert_exporter": "python",
   "pygments_lexer": "ipython3",
   "version": "3.10.18"
  }
 },
 "nbformat": 4,
 "nbformat_minor": 5
}
