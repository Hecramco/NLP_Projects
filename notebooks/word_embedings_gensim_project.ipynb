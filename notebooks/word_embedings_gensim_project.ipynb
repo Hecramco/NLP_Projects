{
 "cells": [
  {
   "cell_type": "code",
   "execution_count": 2,
   "id": "7de02e75",
   "metadata": {},
   "outputs": [],
   "source": [
    "import gensim.downloader as api\n",
    "wv = api.load('word2vec-google-news-300')"
   ]
  },
  {
   "cell_type": "code",
   "execution_count": 3,
   "id": "d8d70b1a",
   "metadata": {},
   "outputs": [
    {
     "data": {
      "text/plain": [
       "0.18861441"
      ]
     },
     "execution_count": 3,
     "metadata": {},
     "output_type": "execute_result"
    }
   ],
   "source": [
    "wv.similarity('Master', 'Anakin')"
   ]
  },
  {
   "cell_type": "code",
   "execution_count": 4,
   "id": "06f67f26",
   "metadata": {},
   "outputs": [
    {
     "data": {
      "text/plain": [
       "[('Yoda', 0.553029477596283),\n",
       " ('Darth', 0.5522363781929016),\n",
       " ('Obi_Wan_Kenobi', 0.5342901945114136),\n",
       " ('Sith_Lord', 0.5264482498168945),\n",
       " ('Jedi_Master', 0.5176643133163452),\n",
       " ('Han_Solo', 0.517648458480835),\n",
       " ('Luke_Skywalker', 0.5108938813209534),\n",
       " ('Hans_Solo', 0.5073797106742859),\n",
       " ('Darth_Vadar', 0.5068924427032471),\n",
       " ('Obi_Wan', 0.5052575469017029)]"
      ]
     },
     "execution_count": 4,
     "metadata": {},
     "output_type": "execute_result"
    }
   ],
   "source": [
    "wv.most_similar(positive=['Darth_Vader','Jedi'], negative=['Sith'])"
   ]
  },
  {
   "cell_type": "markdown",
   "id": "53270145",
   "metadata": {},
   "source": [
    "# Movie Sentiment Analysis using Gensim for word embeddings"
   ]
  },
  {
   "cell_type": "code",
   "execution_count": 5,
   "id": "1a94fd41",
   "metadata": {},
   "outputs": [],
   "source": [
    "import pandas as pd\n",
    "import spacy"
   ]
  },
  {
   "cell_type": "code",
   "execution_count": 6,
   "id": "8211dcf8",
   "metadata": {},
   "outputs": [
    {
     "data": {
      "text/html": [
       "<div>\n",
       "<style scoped>\n",
       "    .dataframe tbody tr th:only-of-type {\n",
       "        vertical-align: middle;\n",
       "    }\n",
       "\n",
       "    .dataframe tbody tr th {\n",
       "        vertical-align: top;\n",
       "    }\n",
       "\n",
       "    .dataframe thead th {\n",
       "        text-align: right;\n",
       "    }\n",
       "</style>\n",
       "<table border=\"1\" class=\"dataframe\">\n",
       "  <thead>\n",
       "    <tr style=\"text-align: right;\">\n",
       "      <th></th>\n",
       "      <th>Unnamed: 0</th>\n",
       "      <th>review</th>\n",
       "      <th>sentiment</th>\n",
       "      <th>sentiment_</th>\n",
       "      <th>clean_rev</th>\n",
       "    </tr>\n",
       "  </thead>\n",
       "  <tbody>\n",
       "    <tr>\n",
       "      <th>0</th>\n",
       "      <td>0</td>\n",
       "      <td>One of the other reviewers has mentioned that ...</td>\n",
       "      <td>positive</td>\n",
       "      <td>1</td>\n",
       "      <td>reviewer mention watch 1 oz episode hook right...</td>\n",
       "    </tr>\n",
       "    <tr>\n",
       "      <th>1</th>\n",
       "      <td>1</td>\n",
       "      <td>A wonderful little production. &lt;br /&gt;&lt;br /&gt;The...</td>\n",
       "      <td>positive</td>\n",
       "      <td>1</td>\n",
       "      <td>wonderful little production realism come home ...</td>\n",
       "    </tr>\n",
       "    <tr>\n",
       "      <th>2</th>\n",
       "      <td>2</td>\n",
       "      <td>I thought this was a wonderful way to spend ti...</td>\n",
       "      <td>positive</td>\n",
       "      <td>1</td>\n",
       "      <td>think wonderful way spend time hot summer week...</td>\n",
       "    </tr>\n",
       "    <tr>\n",
       "      <th>3</th>\n",
       "      <td>3</td>\n",
       "      <td>Basically there's a family where a little boy ...</td>\n",
       "      <td>negative</td>\n",
       "      <td>0</td>\n",
       "      <td>basically family little boy jake think zombie ...</td>\n",
       "    </tr>\n",
       "    <tr>\n",
       "      <th>4</th>\n",
       "      <td>4</td>\n",
       "      <td>Petter Mattei's \"Love in the Time of Money\" is...</td>\n",
       "      <td>positive</td>\n",
       "      <td>1</td>\n",
       "      <td>petter mattei love time money visually stunnin...</td>\n",
       "    </tr>\n",
       "  </tbody>\n",
       "</table>\n",
       "</div>"
      ],
      "text/plain": [
       "   Unnamed: 0                                             review sentiment  \\\n",
       "0           0  One of the other reviewers has mentioned that ...  positive   \n",
       "1           1  A wonderful little production. <br /><br />The...  positive   \n",
       "2           2  I thought this was a wonderful way to spend ti...  positive   \n",
       "3           3  Basically there's a family where a little boy ...  negative   \n",
       "4           4  Petter Mattei's \"Love in the Time of Money\" is...  positive   \n",
       "\n",
       "   sentiment_                                          clean_rev  \n",
       "0           1  reviewer mention watch 1 oz episode hook right...  \n",
       "1           1  wonderful little production realism come home ...  \n",
       "2           1  think wonderful way spend time hot summer week...  \n",
       "3           0  basically family little boy jake think zombie ...  \n",
       "4           1  petter mattei love time money visually stunnin...  "
      ]
     },
     "execution_count": 6,
     "metadata": {},
     "output_type": "execute_result"
    }
   ],
   "source": [
    "df_imdb = pd.read_csv('../data/imdb/clean_imdb_dataset.csv')\n",
    "df_imdb.head()"
   ]
  },
  {
   "cell_type": "code",
   "execution_count": 7,
   "id": "56f66ad2",
   "metadata": {},
   "outputs": [],
   "source": [
    "df_imdb.dropna(inplace=True)"
   ]
  },
  {
   "cell_type": "code",
   "execution_count": 8,
   "id": "1d46507c",
   "metadata": {},
   "outputs": [
    {
     "data": {
      "text/plain": [
       "'reviewer mention watch 1 oz episode hook right exactly happen me.i main appeal fact go show dare forget pretty picture paint mainstream audience forget charm forget romance oz mess episode see strike nasty surreal ready watch develop taste oz get accustom high level graphic violence violence injustice crooked guard sell nickel inmate kill order away mannered middle class inmate turn prison bitch lack street skill prison experience watch oz comfortable uncomfortable view that touch dark'"
      ]
     },
     "execution_count": 8,
     "metadata": {},
     "output_type": "execute_result"
    }
   ],
   "source": [
    "df_imdb.clean_rev[0]"
   ]
  },
  {
   "cell_type": "code",
   "execution_count": 9,
   "id": "ff3b5c66",
   "metadata": {},
   "outputs": [
    {
     "data": {
      "text/html": [
       "<div>\n",
       "<style scoped>\n",
       "    .dataframe tbody tr th:only-of-type {\n",
       "        vertical-align: middle;\n",
       "    }\n",
       "\n",
       "    .dataframe tbody tr th {\n",
       "        vertical-align: top;\n",
       "    }\n",
       "\n",
       "    .dataframe thead th {\n",
       "        text-align: right;\n",
       "    }\n",
       "</style>\n",
       "<table border=\"1\" class=\"dataframe\">\n",
       "  <thead>\n",
       "    <tr style=\"text-align: right;\">\n",
       "      <th></th>\n",
       "      <th>Unnamed: 0</th>\n",
       "      <th>review</th>\n",
       "      <th>sentiment</th>\n",
       "      <th>sentiment_</th>\n",
       "      <th>clean_rev</th>\n",
       "      <th>vector</th>\n",
       "    </tr>\n",
       "  </thead>\n",
       "  <tbody>\n",
       "    <tr>\n",
       "      <th>0</th>\n",
       "      <td>0</td>\n",
       "      <td>One of the other reviewers has mentioned that ...</td>\n",
       "      <td>positive</td>\n",
       "      <td>1</td>\n",
       "      <td>reviewer mention watch 1 oz episode hook right...</td>\n",
       "      <td>[0.014170552, 0.0034130015, 0.0020986407, 0.03...</td>\n",
       "    </tr>\n",
       "    <tr>\n",
       "      <th>1</th>\n",
       "      <td>1</td>\n",
       "      <td>A wonderful little production. &lt;br /&gt;&lt;br /&gt;The...</td>\n",
       "      <td>positive</td>\n",
       "      <td>1</td>\n",
       "      <td>wonderful little production realism come home ...</td>\n",
       "      <td>[0.03674541, 0.024681434, 0.0028873654, 0.0313...</td>\n",
       "    </tr>\n",
       "    <tr>\n",
       "      <th>2</th>\n",
       "      <td>2</td>\n",
       "      <td>I thought this was a wonderful way to spend ti...</td>\n",
       "      <td>positive</td>\n",
       "      <td>1</td>\n",
       "      <td>think wonderful way spend time hot summer week...</td>\n",
       "      <td>[0.024172936, 0.019199688, 0.003957791, 0.0389...</td>\n",
       "    </tr>\n",
       "    <tr>\n",
       "      <th>3</th>\n",
       "      <td>3</td>\n",
       "      <td>Basically there's a family where a little boy ...</td>\n",
       "      <td>negative</td>\n",
       "      <td>0</td>\n",
       "      <td>basically family little boy jake think zombie ...</td>\n",
       "      <td>[0.01918685, -0.007440765, -0.002525709, 0.040...</td>\n",
       "    </tr>\n",
       "    <tr>\n",
       "      <th>4</th>\n",
       "      <td>4</td>\n",
       "      <td>Petter Mattei's \"Love in the Time of Money\" is...</td>\n",
       "      <td>positive</td>\n",
       "      <td>1</td>\n",
       "      <td>petter mattei love time money visually stunnin...</td>\n",
       "      <td>[0.01805561, 0.010634208, 0.0034889076, 0.0351...</td>\n",
       "    </tr>\n",
       "    <tr>\n",
       "      <th>...</th>\n",
       "      <td>...</td>\n",
       "      <td>...</td>\n",
       "      <td>...</td>\n",
       "      <td>...</td>\n",
       "      <td>...</td>\n",
       "      <td>...</td>\n",
       "    </tr>\n",
       "    <tr>\n",
       "      <th>49995</th>\n",
       "      <td>49995</td>\n",
       "      <td>I thought this movie did a down right good job...</td>\n",
       "      <td>positive</td>\n",
       "      <td>1</td>\n",
       "      <td>think movie right good job creative original e...</td>\n",
       "      <td>[0.025032282, 0.015866827, 0.0063926186, 0.072...</td>\n",
       "    </tr>\n",
       "    <tr>\n",
       "      <th>49996</th>\n",
       "      <td>49996</td>\n",
       "      <td>Bad plot, bad dialogue, bad acting, idiotic di...</td>\n",
       "      <td>negative</td>\n",
       "      <td>0</td>\n",
       "      <td>bad plot bad dialogue bad acting idiotic direc...</td>\n",
       "      <td>[0.021711292, 0.011525045, 0.012290539, 0.0490...</td>\n",
       "    </tr>\n",
       "    <tr>\n",
       "      <th>49997</th>\n",
       "      <td>49997</td>\n",
       "      <td>I am a Catholic taught in parochial elementary...</td>\n",
       "      <td>negative</td>\n",
       "      <td>0</td>\n",
       "      <td>catholic teach parochial elementary school nun...</td>\n",
       "      <td>[0.03212715, 0.003841062, 0.030124124, 0.04505...</td>\n",
       "    </tr>\n",
       "    <tr>\n",
       "      <th>49998</th>\n",
       "      <td>49998</td>\n",
       "      <td>I'm going to have to disagree with the previou...</td>\n",
       "      <td>negative</td>\n",
       "      <td>0</td>\n",
       "      <td>go disagree previous comment maltin second rat...</td>\n",
       "      <td>[0.028778354, 0.020742947, 0.0009850833, 0.028...</td>\n",
       "    </tr>\n",
       "    <tr>\n",
       "      <th>49999</th>\n",
       "      <td>49999</td>\n",
       "      <td>No one expects the Star Trek movies to be high...</td>\n",
       "      <td>negative</td>\n",
       "      <td>0</td>\n",
       "      <td>expect star trek movie high art fan expect mov...</td>\n",
       "      <td>[0.04186595, 0.0038502824, -0.011990817, 0.048...</td>\n",
       "    </tr>\n",
       "  </tbody>\n",
       "</table>\n",
       "<p>49984 rows × 6 columns</p>\n",
       "</div>"
      ],
      "text/plain": [
       "       Unnamed: 0                                             review  \\\n",
       "0               0  One of the other reviewers has mentioned that ...   \n",
       "1               1  A wonderful little production. <br /><br />The...   \n",
       "2               2  I thought this was a wonderful way to spend ti...   \n",
       "3               3  Basically there's a family where a little boy ...   \n",
       "4               4  Petter Mattei's \"Love in the Time of Money\" is...   \n",
       "...           ...                                                ...   \n",
       "49995       49995  I thought this movie did a down right good job...   \n",
       "49996       49996  Bad plot, bad dialogue, bad acting, idiotic di...   \n",
       "49997       49997  I am a Catholic taught in parochial elementary...   \n",
       "49998       49998  I'm going to have to disagree with the previou...   \n",
       "49999       49999  No one expects the Star Trek movies to be high...   \n",
       "\n",
       "      sentiment  sentiment_  \\\n",
       "0      positive           1   \n",
       "1      positive           1   \n",
       "2      positive           1   \n",
       "3      negative           0   \n",
       "4      positive           1   \n",
       "...         ...         ...   \n",
       "49995  positive           1   \n",
       "49996  negative           0   \n",
       "49997  negative           0   \n",
       "49998  negative           0   \n",
       "49999  negative           0   \n",
       "\n",
       "                                               clean_rev  \\\n",
       "0      reviewer mention watch 1 oz episode hook right...   \n",
       "1      wonderful little production realism come home ...   \n",
       "2      think wonderful way spend time hot summer week...   \n",
       "3      basically family little boy jake think zombie ...   \n",
       "4      petter mattei love time money visually stunnin...   \n",
       "...                                                  ...   \n",
       "49995  think movie right good job creative original e...   \n",
       "49996  bad plot bad dialogue bad acting idiotic direc...   \n",
       "49997  catholic teach parochial elementary school nun...   \n",
       "49998  go disagree previous comment maltin second rat...   \n",
       "49999  expect star trek movie high art fan expect mov...   \n",
       "\n",
       "                                                  vector  \n",
       "0      [0.014170552, 0.0034130015, 0.0020986407, 0.03...  \n",
       "1      [0.03674541, 0.024681434, 0.0028873654, 0.0313...  \n",
       "2      [0.024172936, 0.019199688, 0.003957791, 0.0389...  \n",
       "3      [0.01918685, -0.007440765, -0.002525709, 0.040...  \n",
       "4      [0.01805561, 0.010634208, 0.0034889076, 0.0351...  \n",
       "...                                                  ...  \n",
       "49995  [0.025032282, 0.015866827, 0.0063926186, 0.072...  \n",
       "49996  [0.021711292, 0.011525045, 0.012290539, 0.0490...  \n",
       "49997  [0.03212715, 0.003841062, 0.030124124, 0.04505...  \n",
       "49998  [0.028778354, 0.020742947, 0.0009850833, 0.028...  \n",
       "49999  [0.04186595, 0.0038502824, -0.011990817, 0.048...  \n",
       "\n",
       "[49984 rows x 6 columns]"
      ]
     },
     "execution_count": 9,
     "metadata": {},
     "output_type": "execute_result"
    }
   ],
   "source": [
    "nlp = spacy.load(\"en_core_web_lg\")\n",
    "\n",
    "def gensim_vectorize(text):\n",
    "    doc = nlp(text)\n",
    "    text_pre = [token.lemma_ for token in doc]\n",
    "    return wv.get_mean_vector(text_pre)\n",
    "df_imdb['vector'] = df_imdb['clean_rev'].apply(gensim_vectorize)\n",
    "df_imdb"
   ]
  },
  {
   "cell_type": "code",
   "execution_count": null,
   "id": "4b9d0918",
   "metadata": {},
   "outputs": [],
   "source": [
    "from sklearn.model_selection import train_test_split\n",
    "from sklearn.preprocessing import MinMaxScaler\n",
    "\n",
    "scaler = MinMaxScaler() # as the algorithm does not accept negative values, I will use a standard scaler \n",
    "\n",
    "X_train, X_test, y_train, y_test = train_test_split(\n",
    "    df_imdb.vector, df_imdb.sentiment_, \n",
    "    test_size=0.33, random_state=42, stratify= df_imdb.sentiment_)"
   ]
  },
  {
   "cell_type": "code",
   "execution_count": 20,
   "id": "2f91be0a",
   "metadata": {},
   "outputs": [
    {
     "name": "stdout",
     "output_type": "stream",
     "text": [
      "              precision    recall  f1-score   support\n",
      "\n",
      "           0       0.76      0.74      0.75      8247\n",
      "           1       0.75      0.76      0.75      8248\n",
      "\n",
      "    accuracy                           0.75     16495\n",
      "   macro avg       0.75      0.75      0.75     16495\n",
      "weighted avg       0.75      0.75      0.75     16495\n",
      "\n"
     ]
    }
   ],
   "source": [
    "import numpy as np \n",
    "\n",
    "X_train_2d = np.stack(X_train)\n",
    "X_test_2d = np.stack(X_test)\n",
    "\n",
    "X_train = scaler.fit_transform(X_train_2d)\n",
    "X_test = scaler.transform(X_test_2d)\n",
    "\n",
    "from sklearn.naive_bayes import MultinomialNB\n",
    "from sklearn.metrics import classification_report\n",
    "\n",
    "\n",
    "clf = MultinomialNB()\n",
    "clf.fit(X_train,y_train)\n",
    "\n",
    "y_pred = clf.predict(X_test)\n",
    "print(classification_report(y_test,y_pred))"
   ]
  },
  {
   "cell_type": "code",
   "execution_count": 22,
   "id": "74aaca7e",
   "metadata": {},
   "outputs": [
    {
     "name": "stdout",
     "output_type": "stream",
     "text": [
      "              precision    recall  f1-score   support\n",
      "\n",
      "           0       0.80      0.79      0.79      8247\n",
      "           1       0.79      0.80      0.80      8248\n",
      "\n",
      "    accuracy                           0.79     16495\n",
      "   macro avg       0.79      0.79      0.79     16495\n",
      "weighted avg       0.79      0.79      0.79     16495\n",
      "\n"
     ]
    }
   ],
   "source": [
    "from sklearn.svm import SVC\n",
    "clf = SVC(gamma='auto')\n",
    "clf.fit(X_train, y_train)\n",
    "\n",
    "y_pred = clf.predict(X_test)\n",
    "print(classification_report(y_test,y_pred))\n"
   ]
  }
 ],
 "metadata": {
  "kernelspec": {
   "display_name": "nlp_env",
   "language": "python",
   "name": "python3"
  },
  "language_info": {
   "codemirror_mode": {
    "name": "ipython",
    "version": 3
   },
   "file_extension": ".py",
   "mimetype": "text/x-python",
   "name": "python",
   "nbconvert_exporter": "python",
   "pygments_lexer": "ipython3",
   "version": "3.10.18"
  }
 },
 "nbformat": 4,
 "nbformat_minor": 5
}
